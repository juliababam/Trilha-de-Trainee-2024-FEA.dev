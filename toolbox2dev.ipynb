{
 "cells": [
  {
   "cell_type": "markdown",
   "id": "3057088d",
   "metadata": {},
   "source": [
    "## Exercício 1\n",
    "Você quer se mudar para a cidade de São Paulo no ano que vem e formou uma lista de tuplas com diferentes imóveis e seus respectivos aluguéis no ano atual.\n",
    "\n",
    "Sabendo que ano que vem os aluguéis aumentarão em 20%, você quer criar uma lista com os aluguéis futuros ordenada pelos imóveis mais baratos."
   ]
  },
  {
   "cell_type": "code",
   "execution_count": 1,
   "id": "139f7a89",
   "metadata": {},
   "outputs": [],
   "source": [
    "imoveis = [\n",
    "    (\"Casa no Brooklin\", 13500),\n",
    "    (\"Casa no Butantã\", 4000),\n",
    "    (\"Apartamento em Cidade Tiradentes\", 1000),\n",
    "    (\"Apartamento na Vila Mariana\", 9000),\n",
    "    (\"Apartamento no Tatuapé\", 3000),\n",
    "]"
   ]
  },
  {
   "cell_type": "code",
   "execution_count": 2,
   "id": "d289557c",
   "metadata": {},
   "outputs": [
    {
     "name": "stdout",
     "output_type": "stream",
     "text": [
      "[('Apartamento em Cidade Tiradentes', 1200.0), ('Apartamento no Tatuapé', 3600.0), ('Casa no Butantã', 4800.0), ('Apartamento na Vila Mariana', 10800.0), ('Casa no Brooklin', 16200.0)]\n"
     ]
    }
   ],
   "source": [
    "# Ordenando por valor\n",
    "imoveis_ordenados = [\n",
    "    (imovel, valor*1.2) for (imovel,valor) in sorted(imoveis, key = lambda x:x[1])  \n",
    "]\n",
    "\n",
    "print(imoveis_ordenados)"
   ]
  },
  {
   "cell_type": "markdown",
   "id": "7022c264",
   "metadata": {},
   "source": [
    "## Exercício 2"
   ]
  },
  {
   "cell_type": "markdown",
   "id": "8ace14c4",
   "metadata": {},
   "source": [
    "Você é um pesquisador e possui uma lista ‘nomes_cidades’ com o nome de algumas cidades e outra lista ‘população’ com as populações em milhões de pessoas. \n",
    "\n",
    "Você quer ordenar as cidades pelas mais populosas, mas apenas as que possuem população acima de 2.5 milhões. Resolva utilizando lista de tuplas."
   ]
  },
  {
   "cell_type": "code",
   "execution_count": 4,
   "id": "b2b3c26a",
   "metadata": {},
   "outputs": [],
   "source": [
    "nomes_cidades = [\"Belo Horizonte\", \"São Paulo\", \"Salvador\", \"Rio de Janeiro\"]\n",
    "\n",
    "população = [2.722, 12.33, 2.417, 6.748]"
   ]
  },
  {
   "cell_type": "code",
   "execution_count": 6,
   "id": "4a168196",
   "metadata": {},
   "outputs": [
    {
     "name": "stdout",
     "output_type": "stream",
     "text": [
      "['São Paulo', 'Rio de Janeiro', 'Belo Horizonte']\n"
     ]
    }
   ],
   "source": [
    "# Criando a lista de tuplas\n",
    "cidades = [(cidade, pop) for cidade, pop in zip(nomes_cidades, população)]\n",
    "\n",
    "# Filtrando cidades\n",
    "cidades = list(filter(lambda x: x[1] > 2.5, cidades))\n",
    "\n",
    "# Ordenando por população \n",
    "cidades_ordenadas = [\n",
    "    cidade for cidade, pop in sorted(cidades, key=lambda x:x[1], reverse = True)\n",
    "]\n",
    "\n",
    "print(cidades_ordenadas)"
   ]
  }
 ],
 "metadata": {
  "kernelspec": {
   "display_name": "Python 3 (ipykernel)",
   "language": "python",
   "name": "python3"
  },
  "language_info": {
   "codemirror_mode": {
    "name": "ipython",
    "version": 3
   },
   "file_extension": ".py",
   "mimetype": "text/x-python",
   "name": "python",
   "nbconvert_exporter": "python",
   "pygments_lexer": "ipython3",
   "version": "3.10.4"
  }
 },
 "nbformat": 4,
 "nbformat_minor": 5
}
