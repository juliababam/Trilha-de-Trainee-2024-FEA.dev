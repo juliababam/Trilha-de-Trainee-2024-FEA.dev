{
 "cells": [
  {
   "cell_type": "markdown",
   "metadata": {},
   "source": [
    "### Exercício 1\n",
    " Você trabalha na tesouraria de uma empresa, onde as operações financeiras são catalogadas em ordem numérica e armazenadas em um sistema NAS, ou seja, um servidor de dados compartilhados entre os dispositivos do seu departamento. Dado que você possui conhecimento sobre duas técnicas de sorting: Quicksort e Mergesort, qual você consideraria mais apropriada para organizar essa grande quantidade de arquivos? "
   ]
  },
  {
   "cell_type": "markdown",
   "metadata": {},
   "source": [
    "**Resposta:** *Apesar das vantagens do quicksort, como a economia de memória, o melhor algoritmo de organização nesse caso é o mergesort. Ele apresenta estabilidade de performance mesmo em grandes bases de dados e se adapta bem em casos de listas slow-to-access, como é o caso de dados armazenados em sistemas NAS, enquanto quicksort tende a performar mal em cenários desse tipo.*"
   ]
  },
  {
   "cell_type": "markdown",
   "metadata": {},
   "source": [
    "### Exercício 2\n",
    "Após realizar a organização da lista de dados pelos algoritmos de sorting, você deseja conferir que o estagiário realmente catalogou uma operação financeira. De que forma você poderia usar programação para facilitar essa procura?  "
   ]
  },
  {
   "cell_type": "markdown",
   "metadata": {},
   "source": [
    "**Resposta:** *Podemos utilizar os algoritmos de procura (search algorithms) para obter o índice dessa operação financeira na nossa base de dados. Como é uma lista uniformemente distribuída (pois cada operação possui uma ordem numérica única), é interessante utilizar Interpolation Search. Por outro lado, a Binary Search é mais rápida de implementar em termos de código.*"
   ]
  }
 ],
 "metadata": {
  "language_info": {
   "name": "python"
  }
 },
 "nbformat": 4,
 "nbformat_minor": 2
}
